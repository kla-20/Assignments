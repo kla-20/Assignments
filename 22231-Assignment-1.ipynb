{
 "cells": [
  {
   "cell_type": "code",
   "execution_count": null,
   "id": "879f8705",
   "metadata": {},
   "outputs": [],
   "source": [
    "Q1. Write a program to compute the real roots of the equation  𝑎𝑥2+𝑏𝑥+𝑐."
   ]
  },
  {
   "cell_type": "code",
   "execution_count": 2,
   "id": "a39647fb",
   "metadata": {},
   "outputs": [
    {
     "name": "stdout",
     "output_type": "stream",
     "text": [
      "Roots for quadratic equation 'ax^2+bx+c':\n",
      "\n",
      "\n",
      "Enter the coefficient for a:1\n",
      "Enter the coefficient for b:4\n",
      "Enter the coefficient for c:4\n",
      "The equation has real and equal roots!\n",
      "\n",
      " -2.0 and -2.0\n"
     ]
    }
   ],
   "source": [
    "import math # math library\n",
    "\n",
    "print(\"Roots for quadratic equation 'ax^2+bx+c':\")\n",
    "print(\"\\n\")\n",
    "#taking inputs for coefficients\n",
    "a=int(input(\"Enter the coefficient for a:\"))\n",
    "b=int(input(\"Enter the coefficient for b:\"))\n",
    "c=int(input(\"Enter the coefficient for c:\"))\n",
    "\n",
    "if(b**2-4*a*c<0): #checking whether equation has imaginary roots\n",
    "    print(f\"The equation {a}x^2 +{b}x +{c} does not have real roots!\")\n",
    "if(b**2-4*a*c>=0): # Real roots are possible\n",
    "    a1 = (-b+math.sqrt(b**2-4*a*c))/2*a\n",
    "    a2 = (-b-math.sqrt(b**2-4*a*c))/2*a\n",
    "    if(b**2-4*a*c==0): # The eqn has real and equal roots\n",
    "        print(\"The equation has real and equal roots!\")\n",
    "        print(f\"\\n {a1} and {a2}\")\n",
    "    if(b**2-4*a*c>0):  # The eqn has real and distinct roots\n",
    "        print(\"The equation has real and distinct roots!\")\n",
    "        print(f\"\\n {round(a1,2)} and {round(a2,2)}\")    "
   ]
  },
  {
   "cell_type": "markdown",
   "id": "ffd9dca4",
   "metadata": {},
   "source": [
    "Q2. Write a program to compute the probability  𝑃(𝑋=𝑥),  where  𝑋∼𝐵𝑖𝑛(𝑛=10,𝑝=0.2)"
   ]
  },
  {
   "cell_type": "code",
   "execution_count": 24,
   "id": "6519ac24",
   "metadata": {},
   "outputs": [
    {
     "name": "stdout",
     "output_type": "stream",
     "text": [
      "0.0\n"
     ]
    }
   ],
   "source": [
    "import math # math library\n",
    "\n",
    "def fact(x):\n",
    "    \"\"\"\n",
    "    Summary: Computes the factorial of a given number\n",
    "    Args:\n",
    "        x - x factorial , type int\n",
    "    Author: Lalith\n",
    "    Date: 4-8-22\n",
    "    \"\"\"\n",
    "    if(x<0):\n",
    "        return math.inf\n",
    "    if x==0:\n",
    "        return 1\n",
    "    else:\n",
    "        return(x*fact(x-1))\n",
    "    \n",
    "def Bin(x,n,p):\n",
    "    \"\"\"\n",
    "    Summary: Computes the binomial distribution for given n,p\n",
    "    Args:\n",
    "        x - no of trials which are successfull\n",
    "        n - No of independent bernoulli trials , type int\n",
    "        p - Probability of success , type float\n",
    "    Author: Lalith\n",
    "    Date: 4-8-22\n",
    "    \"\"\" \n",
    "    if(p>1):\n",
    "        return (\"The probability should lie between 0 and 1\")\n",
    "    fac = fact(n)/(fact(x)*fact(n-x))  \n",
    "    ans = fac*((p)**x)*((1-p)**(n-x))\n",
    "    return round(ans,4)\n",
    "     \n",
    "\n",
    "a=Bin(11,10,.5)\n",
    "print(a) \n",
    "\n",
    "      "
   ]
  },
  {
   "cell_type": "markdown",
   "id": "5431f307",
   "metadata": {},
   "source": [
    "Q3. Lets say you are running a 5 km race. Write a program that,\n",
    "\n",
    "Upon completing each 1 km asks you \"are you tired?\"\n",
    "\n",
    "If you reply \"yes\" then it should break and print \"you didn't finish the race\"\n",
    "\n",
    "If you reply \"no\" then it should continue and ask \"are you tired\" on every km\n",
    "\n",
    "If you finish all 5 km then it should print congratulations message"
   ]
  },
  {
   "cell_type": "code",
   "execution_count": 4,
   "id": "25e11502",
   "metadata": {},
   "outputs": [
    {
     "name": "stdout",
     "output_type": "stream",
     "text": [
      "You completed 1 km!\n",
      "are you tired?:no\n",
      "You completed 2 km!\n",
      "are you tired?:no\n",
      "You completed 3 km!\n",
      "are you tired?:no\n",
      "You completed 4 km!\n",
      "are you tired?:yes\n",
      "You didnt finish the race\n"
     ]
    }
   ],
   "source": [
    "km = 1\n",
    "while(km<5):\n",
    "    print(f\"You completed {km} km!\") #prints no of km person finished\n",
    "    t=input(\"are you tired?:\") # takes input whether he is tired or not\n",
    "    if(t=='yes'): # if yes then break from loop\n",
    "        break\n",
    "    if(t=='no'): #else increment km\n",
    "        km=km+1 # increment\n",
    "        continue       \n",
    "if(km==5):\n",
    "    print(\"Congrats!, you finished 5k\")\n",
    "else:\n",
    "    print(\"You didnt finish the race\")"
   ]
  },
  {
   "cell_type": "markdown",
   "id": "d2e9c85d",
   "metadata": {},
   "source": [
    "Q4. Write a function tip_calc(bill, party), where bill is the total cost of a meal and party is the number of people in the group. The tip should be calculated as 15% for a party strictly less than six people, 18% for a party strictly less than eight, 20% for a party less than 11, and 25% for a party 11 or more. A couple of test cases are given below."
   ]
  },
  {
   "cell_type": "code",
   "execution_count": 41,
   "id": "44d37110",
   "metadata": {},
   "outputs": [
    {
     "name": "stdout",
     "output_type": "stream",
     "text": [
      "\n",
      "Tip Calculator!\n",
      "How many people are in the group?10\n",
      "What is the bill?20560.32\n",
      "\n",
      " The tip for you party is : 4112.064\n"
     ]
    }
   ],
   "source": [
    "def tip_calc(bill, party):\n",
    "    \"\"\"\n",
    "    Summary: Calculates tip for the bill based on number of people in the party\n",
    "    Args:\n",
    "        bill - bill amount for the party , type float\n",
    "        party - no of people in the party, type int\n",
    "    Author: Lalith\n",
    "    Date: 4-8-22\n",
    "    \"\"\"\n",
    "    if party<6:\n",
    "        tip = (15/100)*bill\n",
    "    elif party<8:\n",
    "        tip = (18/100)*bill \n",
    "    elif party<11:\n",
    "        tip = (20/100)*bill\n",
    "    else:\n",
    "        tip = (25/100)*bill\n",
    "    return tip    \n",
    "\n",
    "print(\"\\nTip Calculator!\")\n",
    "party = int(input(\"How many people are in the group?\"))\n",
    "bill = float(input(\"What is the bill?\"))\n",
    "#function call using fstring\n",
    "print(f\"\\n The tip for you party is : {tip_calc(bill,party)}\") \n"
   ]
  },
  {
   "cell_type": "markdown",
   "id": "5e5731a0",
   "metadata": {},
   "source": [
    "Q5. Write a function mult_operation(a,b,operation). The input argument, operation, is a string that is either 'plus', 'minus', 'mult', 'div', or 'pow', and the function should compute: a+b, a−b, a∗b, a/b, and ab for the respective values for operation. A couple of test cases are given below."
   ]
  },
  {
   "cell_type": "code",
   "execution_count": 5,
   "id": "1bd8c40e",
   "metadata": {},
   "outputs": [
    {
     "name": "stdout",
     "output_type": "stream",
     "text": [
      "Enter a number a:5\n",
      "Enter a number b:7\n",
      "Enter the operation between a and b:plus\n",
      "5+7=12\n"
     ]
    }
   ],
   "source": [
    "def mult_operation(a,b,operation):\n",
    "    \"\"\"\n",
    "    Summary: performs operations between two given numbers\n",
    "    Args:\n",
    "        a - 1st number, type int\n",
    "        b - 2nd number, type int\n",
    "        operation = what operation does user want\n",
    "    Author: Lalith\n",
    "    Date: 4-8-22\n",
    "    \"\"\"\n",
    "    if(operation == 'plus'):\n",
    "        print(f\"{a}+{b}={a+b}\")\n",
    "    elif(operation == 'minus'):\n",
    "        print(f\"{a}-{b}={a-b}\")\n",
    "    elif(operation == 'mult'):\n",
    "        print(f\"{a}*{b}={a*b}\")\n",
    "    elif(operation == 'div'):\n",
    "        print(f\"{a}/{b}={round(a/b,2)}\")\n",
    "    elif(operation == 'pow'):\n",
    "        print(f\"{a}^{b}={a**b}\")\n",
    "    else:\n",
    "        print(\"Please mention the operation properly!\")\n",
    "    return    \n",
    "\n",
    "a = int(input(f\"Enter a number a:\"))\n",
    "b = int(input(f\"Enter a number b:\"))\n",
    "operation = input(f\"Enter the operation between a and b:\")\n",
    "\n",
    "mult_operation(a,b,operation)"
   ]
  },
  {
   "cell_type": "markdown",
   "id": "6659f739",
   "metadata": {},
   "source": [
    "Q6. Consider a triangle with vertices at (0,0), (1,0), and (0,1). Write a function inside_triangle(x,y) where the output is the string ‘outside’ if the point (x,y) is outside of the triangle, ‘border’ if the point is exactly on the border of the triangle, and ‘inside’ if the point is on the inside of the triangle."
   ]
  },
  {
   "cell_type": "code",
   "execution_count": 8,
   "id": "b812b8f2",
   "metadata": {},
   "outputs": [
    {
     "name": "stdout",
     "output_type": "stream",
     "text": [
      "outside\n"
     ]
    }
   ],
   "source": [
    "def area(A,B,C):\n",
    "    \"\"\"\n",
    "    Summary: performs Area of a triangle given 3 vertices in 2D\n",
    "    Args:\n",
    "        A - vertex 1 of a triangle , type tuple \n",
    "        B - vertex 2 of a triangle , type tuple \n",
    "        C - vertex 3 of a triangle , type tuple\n",
    "    Author: Lalith\n",
    "    Date: 4-8-22\n",
    "    \"\"\"\n",
    "    area = 0.5*abs(A[0]*(B[1]-C[1])+B[0]*(C[1]-A[1])+C[0]*(A[1]-B[1]))\n",
    "    return area\n",
    "def inside_triangle(x,y):\n",
    "    \"\"\"\n",
    "    Summary: returns the postion of a point with respect to given triangle\n",
    "    Args:\n",
    "        x :- x-cordinate of point , type float\n",
    "        y :- y-cordinate of point , type float\n",
    "    Author: Lalith\n",
    "    Date: 4-8-22\n",
    "    \"\"\"\n",
    "    #vertices of the given triangle\n",
    "    A = (0,0)\n",
    "    B = (1,0)\n",
    "    C = (0,1)\n",
    "    \n",
    "    P = (x,y)\n",
    "    #area of triangle ABC\n",
    "    A0 = area(A,B,C)\n",
    "    #area of triangle PAB\n",
    "    A1 = area(A,B,P)\n",
    "    #area of triangle PBC\n",
    "    A2 = area(P,B,C)\n",
    "    #area of triangle PAC\n",
    "    A3 = area(P,A,C)\n",
    "    \n",
    "    #if the point satisfies any of the condition then execute that statement\n",
    "    if (x==0) or (y==0) or (x+y==1):\n",
    "        return 'border'\n",
    "    #If A1+A2+A3 = A0 then P is inside the triangle\n",
    "    #Error is considered if operations give floating point number\n",
    "    elif (abs(A0-(A1+A2+A3)) < 0.001):\n",
    "        return 'inside'\n",
    "    else:\n",
    "        return 'outside'    \n",
    "\n",
    "print(inside_triangle(1,1))\n"
   ]
  },
  {
   "cell_type": "markdown",
   "id": "559cf414",
   "metadata": {},
   "source": [
    "Q7. Write a function letter_grader(percent), where grade is the string ‘O’ if percent is greater than 80, ‘A’ if percent is greater than 70, ‘B‘ if percent is greater than 60, ‘C’ if percent is greater than 40, and ‘F’ if percent is less than 40. Grades exactly on the division should be included in the higher grade category."
   ]
  },
  {
   "cell_type": "code",
   "execution_count": 9,
   "id": "c7e85683",
   "metadata": {},
   "outputs": [
    {
     "name": "stdout",
     "output_type": "stream",
     "text": [
      "Enter your percentage:56\n",
      "\n",
      "\n",
      "Your Grade is:  C\n"
     ]
    }
   ],
   "source": [
    "def letter_grader(percent):\n",
    "    \"\"\"\n",
    "    Summary: returns the Grade for given percentage\n",
    "    Args:\n",
    "        percent :- percentage of student , type float\n",
    "    Author: Lalith\n",
    "    Date: 4-8-22\n",
    "    \"\"\"\n",
    "    if(percent>80):\n",
    "        grade = 'O'\n",
    "        return grade\n",
    "    elif(percent>70 and percent<=80):\n",
    "        grade = 'A'  \n",
    "        return grade\n",
    "    elif(percent>60 and percent<=70):\n",
    "        grade = 'B'  \n",
    "        return grade\n",
    "    elif(percent>40 and percent<=60):\n",
    "        grade = 'C'  \n",
    "        return grade\n",
    "    else:\n",
    "        grade = 'F'  \n",
    "        return grade\n",
    "    \n",
    "percent = float(input(\"Enter your percentage:\"))\n",
    "print(\"\\n\")\n",
    "print(\"Your Grade is: \",letter_grader(percent))"
   ]
  },
  {
   "cell_type": "markdown",
   "id": "866d025b",
   "metadata": {},
   "source": [
    "Q8. Consider a nuclear reactor whose temperature is monitored by three sensors. An alarm should go off if any two of the sensor readings disagree. Write a function nuke_alarm(s1,s2,s3) where s1, s2, and s3 are the temperature readings for sensor 1, sensor 2, and sensor 3, respectively. The output should be the string ‘alarm!’ if any two of the temperature readings disagree by strictly more than 10 degrees and ‘normal’ otherwise."
   ]
  },
  {
   "cell_type": "code",
   "execution_count": 10,
   "id": "2b861876",
   "metadata": {},
   "outputs": [
    {
     "name": "stdout",
     "output_type": "stream",
     "text": [
      "Enter temperature of s1:23.2\n",
      "Enter temperature of s2:25.6\n",
      "Enter temperature of s3:28.69\n",
      "\n",
      " normal\n"
     ]
    }
   ],
   "source": [
    "def nuke_alarm(s1,s2,s3):\n",
    "    \"\"\"\n",
    "    Summary: Gives the situation of Reactor based on readings of sensors\n",
    "    Args:\n",
    "        s1 :- temperature record by sensor 1 , type float\n",
    "        s2 :- temperature record by sensor 2 , type float\n",
    "        s3 :- temperature record by sensor 3 , type float\n",
    "    Author: Lalith\n",
    "    Date: 4-8-22\n",
    "    \"\"\"\n",
    "    if(abs(s1-s2)>10 or abs(s3-s2)>10 or abs(s3-s1)>10):\n",
    "        return('Alarm!')\n",
    "    else:\n",
    "        return('normal')\n",
    "\n",
    "#taking input readings of the sensors    \n",
    "s1 = float(input(\"Enter temperature of s1:\"))    \n",
    "s2 = float(input(\"Enter temperature of s2:\")) \n",
    "s3 = float(input(\"Enter temperature of s3:\")) \n",
    "print(\"\\n\",nuke_alarm(s1,s2,s3))"
   ]
  },
  {
   "cell_type": "markdown",
   "id": "3e423b4c",
   "metadata": {},
   "source": [
    "Q9. Write a function n_odds(x), where  𝑥  is a one-dimensional array of floats and the output is the number of odd numbers in  𝑥."
   ]
  },
  {
   "cell_type": "code",
   "execution_count": 19,
   "id": "c998c043",
   "metadata": {},
   "outputs": [
    {
     "name": "stdout",
     "output_type": "stream",
     "text": [
      "\n",
      " The number of odd numbers in the array are:  5\n"
     ]
    }
   ],
   "source": [
    "def n_odds(a):\n",
    "    \"\"\"\n",
    "    Summary: returns the number of odd numbers in the list\n",
    "    Args:\n",
    "        a :- list of numbers , type list\n",
    "    Author: Lalith\n",
    "    Date: 4-8-22\n",
    "    \"\"\"\n",
    "    for i in range(0,len(a)): #from 0th element to (len(a)-1) th element\n",
    "        a[i] = int(a[i])  # converting elements to type int\n",
    "    count = 0     \n",
    "    for j in range(0,len(a)):\n",
    "        if(a[j]%2!=0): #checking for odd numbers\n",
    "            count=count+1 #increment if number is odd\n",
    "    return count        \n",
    "\n",
    "a=[2.3,5.6,7,9,9.0,89] # list of numbers\n",
    "print(\"\\n The number of odd numbers in the array are: \",n_odds(a))"
   ]
  },
  {
   "cell_type": "markdown",
   "id": "6f2cda92",
   "metadata": {},
   "source": [
    "Q10. Write a function vol_cylinder(r,h), where  𝑟  and  ℎ  are the radius and height of a cylinder, respectively, and the output is a list  [𝑠,𝑣]  where  𝑠  and  𝑣  are the surface area and volume of the same cylinder, respectively. Recall that the surface area of a cylinder is  2π𝑟2+2π𝑟ℎ,  and the volume is  π𝑟2ℎ.  Assume that  𝑟  and  ℎ  are 1 by 1 float."
   ]
  },
  {
   "cell_type": "code",
   "execution_count": 1,
   "id": "9c17ec6c",
   "metadata": {},
   "outputs": [
    {
     "name": "stdout",
     "output_type": "stream",
     "text": [
      "Enter radius r:2\n",
      "Enter height h:6\n",
      "The Total Surface Area of the given cylinder is:  100.48\n",
      "The Volume of the given cylinder is:  75.36\n"
     ]
    }
   ],
   "source": [
    "import math # math library\n",
    "\n",
    "def vol_cylinder(r,h):\n",
    "    \"\"\"\n",
    "    Summary: returns Total Surface Area and Volume of a Cylinder\n",
    "    Args:\n",
    "        r :- radius of cylinder , type float\n",
    "        h :- height of cylinder , type float\n",
    "    Author: Lalith\n",
    "    Date: 4-8-22\n",
    "    \"\"\"\n",
    "    #Total Surface Area of a Cylinder\n",
    "    s = 2*round(math.pi,2)*r*h + 2*round(math.pi,2)*(r**2)\n",
    "    #Volume of a Cylinder\n",
    "    v = round(math.pi,2)*(r**2)*h\n",
    "    #returns both as a list\n",
    "    return [s,v]\n",
    "\n",
    "r = float(input(\"Enter radius r:\"))\n",
    "h = float(input(\"Enter height h:\"))\n",
    "\n",
    "ans = vol_cylinder(r,h) #function call and a list is returned\n",
    "\n",
    "print(\"The Total Surface Area of the given cylinder is: \",ans[0])\n",
    "print(\"The Volume of the given cylinder is: \",ans[1])"
   ]
  }
 ],
 "metadata": {
  "kernelspec": {
   "display_name": "Python 3 (ipykernel)",
   "language": "python",
   "name": "python3"
  },
  "language_info": {
   "codemirror_mode": {
    "name": "ipython",
    "version": 3
   },
   "file_extension": ".py",
   "mimetype": "text/x-python",
   "name": "python",
   "nbconvert_exporter": "python",
   "pygments_lexer": "ipython3",
   "version": "3.9.13"
  }
 },
 "nbformat": 4,
 "nbformat_minor": 5
}
