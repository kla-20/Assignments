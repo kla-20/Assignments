{
 "cells": [
  {
   "cell_type": "markdown",
   "id": "125dde8d",
   "metadata": {},
   "source": [
    "##  Statistical Tests"
   ]
  },
  {
   "cell_type": "markdown",
   "id": "c006fa71",
   "metadata": {},
   "source": [
    "## Z-Test (2_Tailed)"
   ]
  },
  {
   "cell_type": "markdown",
   "id": "adb10817",
   "metadata": {},
   "source": [
    "### $$ H0:\\mu = \\mu0\\  Vs \\ H1:\\mu \\not=\\mu0 $$<br>\n",
    "\n",
    "<h4>$$ Here Given, \\mu = 1.756 \\ and \\  \\sigma=0.1 $$ </h4>"
   ]
  },
  {
   "cell_type": "code",
   "execution_count": 55,
   "id": "c895bfc9",
   "metadata": {},
   "outputs": [],
   "source": [
    "import numpy as np"
   ]
  },
  {
   "cell_type": "code",
   "execution_count": 56,
   "id": "fde54d93",
   "metadata": {},
   "outputs": [],
   "source": [
    "x= [ 1.83, 1.83, 1.73, 1.82, 1.83, 1.73, 1.99, 1.85, 1.68, 1.87] # data"
   ]
  },
  {
   "cell_type": "code",
   "execution_count": 57,
   "id": "ba6c0993",
   "metadata": {},
   "outputs": [
    {
     "name": "stdout",
     "output_type": "stream",
     "text": [
      "1.8973665961010293\n"
     ]
    }
   ],
   "source": [
    "xbar = np.mean(x)\n",
    "\n",
    "mu0 = 1.756 # Its Given \n",
    "sigma= 0.1 #Lets say known value\n",
    "\n",
    "sd = np.std(x,ddof=1) # sample standard deviation ddof is set to 1 for unbiased estimator for variance\n",
    "n = len(x)\n",
    "\n",
    "z_cal = (xbar-mu0)/(sigma/np.sqrt(n))\n",
    "\n",
    "print(z_cal) \n",
    "\n",
    " "
   ]
  },
  {
   "cell_type": "code",
   "execution_count": 58,
   "id": "08315579",
   "metadata": {},
   "outputs": [],
   "source": [
    "import scipy.stats as stats\n",
    "import matplotlib.pyplot as plt\n",
    "import math"
   ]
  },
  {
   "cell_type": "code",
   "execution_count": 59,
   "id": "00f4ae7a",
   "metadata": {},
   "outputs": [
    {
     "data": {
      "image/png": "[encoded data removed]",
      "text/plain": [
       "<Figure size 432x288 with 1 Axes>"
      ]
     },
     "metadata": {
      "needs_background": "light"
     },
     "output_type": "display_data"
    }
   ],
   "source": [
    "x_axis = np.linspace(-5,5,100)\n",
    "fig = plt.plot(x_axis, stats.norm.pdf(x_axis, 0, 1))\n",
    "#plt.scatter(-1.96,stats.norm.pdf(-1.96, 0, 1))\n",
    "#plt.scatter(1.96,stats.norm.pdf(1.96, 0, 1))\n",
    "#plt.fill_between([x_axis<-1.96],0,stats.t.pdf([x_axis<-1.96],n-1),alpha=.99,label='alpha/2',color='g')\n",
    "\n",
    "#Caclulating the left end of the test for alpha/2\n",
    "left_tail_x = []\n",
    "for i in range(0, len(x_axis)):\n",
    "    if(x_axis[i] <= -1.96):\n",
    "            left_tail_x.append(x_axis[i])\n",
    "left_tail_y = []\n",
    "for i in range(0,len(left_tail_x)):\n",
    "    left_tail_y.append(stats.norm.pdf(left_tail_x[i]))\n",
    "plt.fill_between(left_tail_x,left_tail_y,alpha=.56,label='Critical Region',color='r')\n",
    "\n",
    "\n",
    "#Caclulating the right end of the test for alpha/2\n",
    "right_tail_x = []\n",
    "for i in range(0, len(x_axis)):\n",
    "    if(x_axis[i] >= 1.96):\n",
    "            right_tail_x.append(x_axis[i])\n",
    "right_tail_y = []\n",
    "for i in range(0,len(right_tail_x)):\n",
    "    right_tail_y.append(stats.norm.pdf(right_tail_x[i]))\n",
    "plt.fill_between(right_tail_x,right_tail_y,alpha=.56,color='r')\n",
    "\n",
    "\n",
    "#Calculating for the space for 1 - alpha\n",
    "middle_x = []\n",
    "for i in range(0, len(x_axis)):\n",
    "    if(x_axis[i]<=1.97 and x_axis[i]>=-1.97):\n",
    "            middle_x.append(x_axis[i])\n",
    "middle_y = []\n",
    "for i in range(0,len(middle_x)):\n",
    "    middle_y.append(stats.norm.pdf(middle_x[i]))\n",
    "plt.fill_between(middle_x,middle_y,alpha=.56,color='g',label='Acceptance Region')    \n",
    "    \n",
    "\n",
    "\n",
    "plt.scatter(z_cal,stats.norm.pdf(z_cal, 0, 1),c=\"b\",marker='x',s=150)\n",
    "plt.scatter(-z_cal,stats.norm.pdf(-z_cal, 0, 1),c=\"b\",marker='x',s=150)\n",
    "\n",
    "\n",
    "\n",
    "plt.legend()\n",
    "plt.show()\n"
   ]
  },
  {
   "cell_type": "markdown",
   "id": "8e9752f5",
   "metadata": {},
   "source": [
    "### As We Can See in the above Graph that the Zcal Value is in the Accepatance Region! i.e The Hypothesis is not rejected!"
   ]
  },
  {
   "cell_type": "markdown",
   "id": "36e66a05",
   "metadata": {},
   "source": [
    "# t-Test"
   ]
  },
  {
   "cell_type": "code",
   "execution_count": 60,
   "id": "66d1111b",
   "metadata": {},
   "outputs": [],
   "source": [
    "import numpy as np"
   ]
  },
  {
   "cell_type": "code",
   "execution_count": 61,
   "id": "9a21eae3",
   "metadata": {},
   "outputs": [],
   "source": [
    "x= [ 1.83, 1.83, 1.73, 1.82, 1.83, 1.73, 1.99, 1.85, 1.68, 1.87] # data"
   ]
  },
  {
   "cell_type": "code",
   "execution_count": 62,
   "id": "5438f320",
   "metadata": {},
   "outputs": [
    {
     "name": "stdout",
     "output_type": "stream",
     "text": [
      "2.3968766311585883\n"
     ]
    }
   ],
   "source": [
    "xbar = np.mean(x)\n",
    "\n",
    "mu0 = 1.75 # hypothesis\n",
    "sd = np.std(x,ddof=1) # sample standard deviation ddof is set to 1 for unbiased estimator for variance\n",
    "n = len(x)\n",
    "\n",
    "t_cal = (xbar-mu0)/(sd/np.sqrt(n))\n",
    "\n",
    "print(t_cal)"
   ]
  },
  {
   "cell_type": "markdown",
   "id": "0332d9f2",
   "metadata": {},
   "source": [
    "We should observe 'p'-value to observe a value t more extreme than the observed one t-cal in NULL Hypothesis. H0: P(t>t_cal|H0)"
   ]
  },
  {
   "cell_type": "code",
   "execution_count": 63,
   "id": "c234d5c3",
   "metadata": {},
   "outputs": [],
   "source": [
    "import scipy.stats as stats\n",
    "import matplotlib.pyplot as plt"
   ]
  },
  {
   "cell_type": "code",
   "execution_count": 64,
   "id": "7127011c",
   "metadata": {},
   "outputs": [
    {
     "data": {
      "image/png": "[encoded data removed]",
      "text/plain": [
       "<Figure size 432x288 with 1 Axes>"
      ]
     },
     "metadata": {
      "needs_background": "light"
     },
     "output_type": "display_data"
    }
   ],
   "source": [
    "t_values = np.linspace(-10,10,100)\n",
    "plt.plot(t_values,stats.t.pdf(t_values,n-1),'b-',label='T(n-1)')\n",
    "upper_tval_tvalues = t_values[t_values > t_cal]\n",
    "lower_tval_tvalues = t_values[t_values < -t_cal]\n",
    "        \n",
    "plt.fill_between(lower_tval_tvalues,0,stats.t.pdf(lower_tval_tvalues,n-1),alpha=.99,label='alpha/2',color='g')\n",
    "plt.fill_between(upper_tval_tvalues,0,stats.t.pdf(upper_tval_tvalues,n-1),alpha=.99,label='alpha/2',color='g')\n",
    "\n",
    "\n",
    "plt.legend()\n",
    "plt.show()"
   ]
  },
  {
   "cell_type": "markdown",
   "id": "578de2c4",
   "metadata": {},
   "source": [
    "## Testing Pairwise Associations"
   ]
  },
  {
   "cell_type": "markdown",
   "id": "60cdcebd",
   "metadata": {},
   "source": [
    "<h4>1.Pearson correlation test: test association between two quantitative variables</h4>\n",
    "<br>\n",
    "Testing the Correlation between 2 Quantitative Variables \n",
    "Let X and Y be 2 Quantitative variables where n samples are observed "
   ]
  },
  {
   "cell_type": "code",
   "execution_count": 65,
   "id": "efb20d11",
   "metadata": {},
   "outputs": [
    {
     "name": "stdout",
     "output_type": "stream",
     "text": [
      "Correlation value: 0.8915239519024443\n",
      "p-value: 3.964661569049908e-18\n"
     ]
    }
   ],
   "source": [
    "n = 50\n",
    "x= np.random.normal(size = n)\n",
    "y = 2*x + np.random.normal(size = n)\n",
    "cor,pval = stats.pearsonr(x,y)\n",
    "print(\"Correlation value:\",cor)\n",
    "print(\"p-value:\",pval)"
   ]
  },
  {
   "cell_type": "code",
   "execution_count": 66,
   "id": "4db7cfce",
   "metadata": {},
   "outputs": [
    {
     "data": {
      "image/png": "[encoded data removed]",
      "text/plain": [
       "<Figure size 432x288 with 1 Axes>"
      ]
     },
     "metadata": {
      "needs_background": "light"
     },
     "output_type": "display_data"
    }
   ],
   "source": [
    "plt.plot(x,y)\n",
    "plt.xlabel('Variable-X',size=25)\n",
    "plt.ylabel('Variable-Y',size=25)\n",
    "plt.show()"
   ]
  },
  {
   "cell_type": "markdown",
   "id": "9748a689",
   "metadata": {},
   "source": [
    "### 2.Two sample (Student) 𝑡-test: compare two means"
   ]
  },
  {
   "cell_type": "markdown",
   "id": "f08bd929",
   "metadata": {},
   "source": [
    "1. Model the Data\n",
    "Assume that the two random variables are normally distributed: 𝑥 ∼ 𝒩 (𝜇𝑥, 𝜎𝑥), 𝑦 ∼ 𝒩 (𝜇𝑦, 𝜎𝑦).\n",
    "2. Fit: estimate the model parameters\n",
    "Estimate means and variances\n",
    "3. T-Test \n",
    "<br>\n",
    "    1.If both variances are known:\n",
    "    <br>\n",
    "    2.If both variances are unknown and equal"
   ]
  },
  {
   "cell_type": "code",
   "execution_count": 67,
   "id": "bde7f979",
   "metadata": {},
   "outputs": [
    {
     "name": "stdout",
     "output_type": "stream",
     "text": [
      "Ttest_indResult(statistic=3.5511519888466885, pvalue=0.00228208937112721)\n"
     ]
    }
   ],
   "source": [
    "import scipy.stats as stats\n",
    "import numpy as np\n",
    "\n",
    "height = np.array([1.83,1.83,1.73,1.82,1.83,1.73,1.99,1.85,1.68,1.87,1.66,1.71,1.73,1.64,1.70,1.60,1.79,1.73,1.62,1.77])\n",
    "grp = np.array([\"M\"]*10 + [\"F\"]*10)\n",
    "\n",
    "print(stats.ttest_ind(height[grp==\"M\"],height[grp==\"F\"],equal_var=True))"
   ]
  },
  {
   "cell_type": "markdown",
   "id": "8f43e1ed",
   "metadata": {},
   "source": [
    "## Chi-Square Test: $ \\chi^2 $"
   ]
  },
  {
   "cell_type": "markdown",
   "id": "1085fc10",
   "metadata": {},
   "source": [
    "The example is of 15 patients with cancer, two observed categorical variables:Canalar Tumor (Y/N) and metastasis (Y/N). $\\chi^2$ tests asssociated between those 2 variables"
   ]
  },
  {
   "cell_type": "code",
   "execution_count": 68,
   "id": "f496e596",
   "metadata": {},
   "outputs": [
    {
     "name": "stdout",
     "output_type": "stream",
     "text": [
      "Observed table:\n",
      "--------------\n",
      "meta           0  1\n",
      "canalar_tumor      \n",
      "0              4  1\n",
      "1              2  8\n",
      "Statistics\n",
      "----------\n",
      "Chi2 = 2.812500, pval = 0.093533\n",
      "Expected table:\n",
      "---------------\n",
      "[[2. 3.]\n",
      " [4. 6.]]\n"
     ]
    }
   ],
   "source": [
    "import numpy as np\n",
    "import pandas as pd\n",
    "import scipy.stats as stats\n",
    "\n",
    "# Dataset\n",
    "# 15 samples\n",
    "# 10 first with canalar tumor , 5 last without\n",
    "canalar_tumor = np.array([1]*10 + [0]*5)\n",
    "# 8 first with metastasis, 6 without, the last with\n",
    "meta = np.array([1]*8 + [0]*6 + [1])\n",
    "\n",
    "crosstab = pd.crosstab(canalar_tumor,meta,rownames=['canalar_tumor'],colnames=['meta'])\n",
    "print(\"Observed table:\")\n",
    "print(\"--------------\")\n",
    "print(crosstab)\n",
    "\n",
    "chi2,pval,dof,expected = stats.chi2_contingency(crosstab)\n",
    "print(\"Statistics\")\n",
    "print(\"----------\")\n",
    "print(\"Chi2 = %f, pval = %f\" % (chi2,pval))\n",
    "print(\"Expected table:\")\n",
    "print(\"---------------\")\n",
    "print(expected)"
   ]
  },
  {
   "cell_type": "markdown",
   "id": "45190eca",
   "metadata": {},
   "source": [
    "### Computing expected cross-table "
   ]
  },
  {
   "cell_type": "code",
   "execution_count": 69,
   "id": "a16cf5e9",
   "metadata": {},
   "outputs": [
    {
     "name": "stdout",
     "output_type": "stream",
     "text": [
      "Canalar tumor frequency? Yes: 0.33 No: 0.67\n",
      "Metastasis frequency? Yes: 0.40 No: 0.60\n",
      "Expected frequencies:\n",
      "[[0.13333333 0.2       ]\n",
      " [0.26666667 0.4       ]]\n",
      "Expected cross-table (frequencies * N): \n",
      "[[2. 3.]\n",
      " [4. 6.]]\n"
     ]
    }
   ],
   "source": [
    "meta_marg = crosstab.sum(axis=0)\n",
    "meta_freq = meta_marg / meta_marg.sum()\n",
    "\n",
    "canalar_tumor_marg = crosstab.sum(axis=1)\n",
    "canalar_tumor_freq = canalar_tumor_marg / canalar_tumor_marg.sum()\n",
    "\n",
    "print('Canalar tumor frequency? Yes: %.2f' % canalar_tumor_freq[0], 'No: %.2f' %canalar_tumor_freq[1])\n",
    "\n",
    "print('Metastasis frequency? Yes: %.2f' % meta_freq[0], 'No: %.2f' % meta_freq[1])\n",
    "\n",
    "\n",
    "print('Expected frequencies:')\n",
    "print(np.outer(canalar_tumor_freq, meta_freq))\n",
    "\n",
    "print('Expected cross-table (frequencies * N): ')\n",
    "print(np.outer(canalar_tumor_freq, meta_freq) * len(canalar_tumor))"
   ]
  }
 ],
 "metadata": {
  "kernelspec": {
   "display_name": "Python 3 (ipykernel)",
   "language": "python",
   "name": "python3"
  },
  "language_info": {
   "codemirror_mode": {
    "name": "ipython",
    "version": 3
   },
   "file_extension": ".py",
   "mimetype": "text/x-python",
   "name": "python",
   "nbconvert_exporter": "python",
   "pygments_lexer": "ipython3",
   "version": "3.9.13"
  }
 },
 "nbformat": 4,
 "nbformat_minor": 5
}
