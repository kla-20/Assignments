{
 "cells": [
  {
   "cell_type": "markdown",
   "id": "34a2b5de",
   "metadata": {},
   "source": [
    "## Section 1"
   ]
  },
  {
   "cell_type": "code",
   "execution_count": 194,
   "id": "e823a712",
   "metadata": {},
   "outputs": [],
   "source": [
    "import numpy as np\n",
    "import pandas as pd\n",
    "import matplotlib.pyplot as plt"
   ]
  },
  {
   "cell_type": "markdown",
   "id": "c62d3708",
   "metadata": {},
   "source": [
    "# 1"
   ]
  },
  {
   "cell_type": "code",
   "execution_count": 195,
   "id": "e5014ea0",
   "metadata": {},
   "outputs": [
    {
     "data": {
      "text/plain": [
       "array([ 10.,  20.,  30.,  40.,  50.,  60.,  70.,  80.,  90., 100.])"
      ]
     },
     "execution_count": 195,
     "metadata": {},
     "output_type": "execute_result"
    }
   ],
   "source": [
    "arr = np.linspace(10,100,10)\n",
    "arr"
   ]
  },
  {
   "cell_type": "markdown",
   "id": "bc6c0bab",
   "metadata": {},
   "source": [
    "# 2"
   ]
  },
  {
   "cell_type": "code",
   "execution_count": 196,
   "id": "0a60d620",
   "metadata": {},
   "outputs": [
    {
     "data": {
      "text/plain": [
       "int"
      ]
     },
     "execution_count": 196,
     "metadata": {},
     "output_type": "execute_result"
    }
   ],
   "source": [
    "a = 4\n",
    "type(a)"
   ]
  },
  {
   "cell_type": "markdown",
   "id": "80679049",
   "metadata": {},
   "source": [
    "The data type for 4 is an integer"
   ]
  },
  {
   "cell_type": "markdown",
   "id": "df4b9105",
   "metadata": {},
   "source": [
    "# 3"
   ]
  },
  {
   "cell_type": "code",
   "execution_count": 197,
   "id": "7d536a4f",
   "metadata": {},
   "outputs": [
    {
     "name": "stdout",
     "output_type": "stream",
     "text": [
      "The value of x_array.shape is: (3, 4, 5)\n",
      "\n",
      "The value of x_array.ndim is: 3\n"
     ]
    }
   ],
   "source": [
    "z_list = [z for z in range(0,5)]\n",
    "y_list = [z_list for y in range(0,4)]\n",
    "x_list = [y_list for x in range(0,3)]\n",
    "\n",
    "x_array = np.array(x_list)\n",
    "\n",
    "print(f\"The value of x_array.shape is: {x_array.shape}\")\n",
    "print()\n",
    "print(f\"The value of x_array.ndim is: {x_array.ndim}\")"
   ]
  },
  {
   "cell_type": "markdown",
   "id": "08565122",
   "metadata": {},
   "source": [
    "# 4"
   ]
  },
  {
   "cell_type": "code",
   "execution_count": 198,
   "id": "19653874",
   "metadata": {},
   "outputs": [
    {
     "data": {
      "text/html": [
       "<div>\n",
       "<style scoped>\n",
       "    .dataframe tbody tr th:only-of-type {\n",
       "        vertical-align: middle;\n",
       "    }\n",
       "\n",
       "    .dataframe tbody tr th {\n",
       "        vertical-align: top;\n",
       "    }\n",
       "\n",
       "    .dataframe thead th {\n",
       "        text-align: right;\n",
       "    }\n",
       "</style>\n",
       "<table border=\"1\" class=\"dataframe\">\n",
       "  <thead>\n",
       "    <tr style=\"text-align: right;\">\n",
       "      <th></th>\n",
       "      <th>index</th>\n",
       "      <th>age</th>\n",
       "      <th>gender</th>\n",
       "      <th>job</th>\n",
       "      <th>name</th>\n",
       "      <th>height</th>\n",
       "    </tr>\n",
       "  </thead>\n",
       "  <tbody>\n",
       "    <tr>\n",
       "      <th>0</th>\n",
       "      <td>0</td>\n",
       "      <td>19</td>\n",
       "      <td>F</td>\n",
       "      <td>student</td>\n",
       "      <td>alice</td>\n",
       "      <td>165.0</td>\n",
       "    </tr>\n",
       "    <tr>\n",
       "      <th>1</th>\n",
       "      <td>1</td>\n",
       "      <td>26</td>\n",
       "      <td>M</td>\n",
       "      <td>student</td>\n",
       "      <td>john</td>\n",
       "      <td>180.0</td>\n",
       "    </tr>\n",
       "    <tr>\n",
       "      <th>2</th>\n",
       "      <td>2</td>\n",
       "      <td>22</td>\n",
       "      <td>M</td>\n",
       "      <td>student</td>\n",
       "      <td>eric</td>\n",
       "      <td>175.0</td>\n",
       "    </tr>\n",
       "    <tr>\n",
       "      <th>3</th>\n",
       "      <td>3</td>\n",
       "      <td>58</td>\n",
       "      <td>F</td>\n",
       "      <td>manager</td>\n",
       "      <td>paul</td>\n",
       "      <td>Nan</td>\n",
       "    </tr>\n",
       "    <tr>\n",
       "      <th>4</th>\n",
       "      <td>4</td>\n",
       "      <td>33</td>\n",
       "      <td>M</td>\n",
       "      <td>engineer</td>\n",
       "      <td>peter</td>\n",
       "      <td>Nan</td>\n",
       "    </tr>\n",
       "    <tr>\n",
       "      <th>5</th>\n",
       "      <td>5</td>\n",
       "      <td>44</td>\n",
       "      <td>F</td>\n",
       "      <td>scientist</td>\n",
       "      <td>julie</td>\n",
       "      <td>171.0</td>\n",
       "    </tr>\n",
       "  </tbody>\n",
       "</table>\n",
       "</div>"
      ],
      "text/plain": [
       "   index  age gender        job   name height\n",
       "0      0   19      F    student  alice  165.0\n",
       "1      1   26      M    student   john  180.0\n",
       "2      2   22      M    student   eric  175.0\n",
       "3      3   58      F    manager   paul    Nan\n",
       "4      4   33      M   engineer  peter    Nan\n",
       "5      5   44      F  scientist  julie  171.0"
      ]
     },
     "execution_count": 198,
     "metadata": {},
     "output_type": "execute_result"
    }
   ],
   "source": [
    "data = {'index':[0,1,2,3,4,5],\n",
    "        'age':[19,26,22,58,33,44],\n",
    "        'gender':['F','M','M','F','M','F'],\n",
    "        'job':['student','student','student','manager','engineer','scientist'],\n",
    "        'name':['alice','john','eric','paul','peter','julie'],\n",
    "        'height':[165.0,180.0,175.0,'Nan','Nan',171.0]\n",
    "       }\n",
    "ser = pd.DataFrame(data,index=[0,1,2,3,4,5])\n",
    "ser"
   ]
  },
  {
   "cell_type": "markdown",
   "id": "bd474fc2",
   "metadata": {},
   "source": [
    "# 5"
   ]
  },
  {
   "cell_type": "markdown",
   "id": "792fa493",
   "metadata": {},
   "source": [
    "## Inferences"
   ]
  },
  {
   "cell_type": "markdown",
   "id": "0b7b5205",
   "metadata": {},
   "source": [
    "1. The figure is a box-whisker plot.\n",
    "\n",
    "2. It shows how the salaries are among the management and non-management field job positions.\n",
    "Management job holders are in blue.\n",
    "Non-Management job holders are in Orange.\n",
    "\n",
    "3. It also shows the Education Qualifications of the job holders, categorized into Bachelor , Ph.D ,Masters.\n",
    "\n",
    "4. In Bachelors Qualification,\n",
    "    The person with management job is having average salary of 16000 units.\n",
    "    \n",
    "    The person with non-management job is having average salary of 16000 units.\n",
    "    \n",
    "5. In Ph.D Qualification,\n",
    "    The person with management job is having average salary of 21000 units.\n",
    "    \n",
    "    The person with non-management job is having average salary of 12000 units.\n",
    "\n",
    "\n",
    "6. In Masters Qualification,\n",
    "    The person with management job is having average salary of 23500 units.\n",
    "    \n",
    "    The person with non-management job is having average salary of 13500 units.\n",
    "\n",
    "\n",
    "So , Masters person with a Management job is receiving high-salary and ph.D person with Non_Management job is receiving low salary! "
   ]
  },
  {
   "cell_type": "markdown",
   "id": "ad6077f0",
   "metadata": {},
   "source": [
    "## Section 2"
   ]
  },
  {
   "cell_type": "markdown",
   "id": "ddf36bb0",
   "metadata": {},
   "source": [
    "# 6"
   ]
  },
  {
   "cell_type": "code",
   "execution_count": 199,
   "id": "3c545b05",
   "metadata": {},
   "outputs": [],
   "source": [
    "import scipy.stats as stat"
   ]
  },
  {
   "cell_type": "code",
   "execution_count": 209,
   "id": "05244d33",
   "metadata": {},
   "outputs": [
    {
     "name": "stdout",
     "output_type": "stream",
     "text": [
      "Reject null Hypothesis!,since zcal:2.4 is crossing 1.96\n"
     ]
    }
   ],
   "source": [
    "x = [1.83,1.83,1.73,1.82,1.83,1.73,1.99,1.85,1.68,1.87]\n",
    "\n",
    "mue0 = 1.75 #mue0\n",
    "sd = np.std(x,ddof=1) #Since data is less than 25 and sd not given\n",
    "n = len(x) # size\n",
    "xbar = np.mean(x)\n",
    "zcal = ((xbar-mue0)*np.sqrt(n))/(sd)\n",
    "\n",
    "\n",
    "# If we take significance level alpha 0.05, the boundary will be 1.96\n",
    "if(1.96-zcal <0):\n",
    "    print(f\"Reject null Hypothesis!,since zcal:{round(zcal,2)} is crossing 1.96\")\n",
    "else:    \n",
    "    print(\"Accept null Hypothesis!\")"
   ]
  },
  {
   "cell_type": "markdown",
   "id": "836d4afe",
   "metadata": {},
   "source": [
    "# 7\n"
   ]
  },
  {
   "cell_type": "code",
   "execution_count": 201,
   "id": "0df822dc",
   "metadata": {},
   "outputs": [
    {
     "name": "stdout",
     "output_type": "stream",
     "text": [
      "Enter the theta(theta>-1) value: .2356\n"
     ]
    },
    {
     "data": {
      "image/png": "[encoded data removed]",
      "text/plain": [
       "<Figure size 720x504 with 1 Axes>"
      ]
     },
     "metadata": {
      "needs_background": "light"
     },
     "output_type": "display_data"
    }
   ],
   "source": [
    "def f(x,theta):\n",
    "    \"\"\"\n",
    "    Args: x - type float, x_value for pdf\n",
    "          theta - type float , parameter for the RV\n",
    "          \n",
    "    Summary: This will return the f(x) for given x value.      \n",
    "    \"\"\"\n",
    "    return (1+theta)*(x**theta)\n",
    "\n",
    "theta = float(input(\"Enter the theta(theta>-1) value: \"))\n",
    "\n",
    "x = np.linspace(0.1,0.9,100)\n",
    "y = []\n",
    "for i in range(0,len(x)):\n",
    "    y.append(f(x[i],theta))\n",
    "\n",
    "plt.figure(figsize=(10,7))\n",
    "plt.plot(x,y)\n",
    "plt.xlabel('x-axis',fontsize=22)\n",
    "plt.ylabel('y-axis',fontsize=22)\n",
    "plt.title('f(x;theta) = (1+theta)x^theta',fontsize=22.5)\n",
    "plt.show()"
   ]
  },
  {
   "cell_type": "markdown",
   "id": "9a07b337",
   "metadata": {},
   "source": [
    "# 8"
   ]
  },
  {
   "cell_type": "code",
   "execution_count": 202,
   "id": "48a08ec4",
   "metadata": {},
   "outputs": [
    {
     "data": {
      "image/png": "[encoded data removed]",
      "text/plain": [
       "<Figure size 1080x504 with 2 Axes>"
      ]
     },
     "metadata": {
      "needs_background": "light"
     },
     "output_type": "display_data"
    }
   ],
   "source": [
    "x = np.random.standard_normal(100)\n",
    "\n",
    "plt.figure(figsize=(15,7))\n",
    "plt.subplot(1,2,1)\n",
    "plt.hist(x,bins=100)\n",
    "plt.title('Histogram',fontsize=25)\n",
    "\n",
    "plt.subplot(1,2,2)\n",
    "plt.boxplot(x)\n",
    "plt.title('Box_Plot',fontsize=25)\n",
    "\n",
    "plt.show()"
   ]
  },
  {
   "cell_type": "markdown",
   "id": "d140179d",
   "metadata": {},
   "source": [
    "# 9"
   ]
  },
  {
   "cell_type": "code",
   "execution_count": 203,
   "id": "a2ad86a6",
   "metadata": {},
   "outputs": [
    {
     "name": "stdout",
     "output_type": "stream",
     "text": [
      "aditya bharadwaj\n",
      "satya sai gopinath\n",
      "sai vamsee\n",
      "hemanth sai pavan\n",
      "lalith aditya\n",
      "pavan pyla\n",
      "sai mathura krishnan\n",
      "varanasi sai kumar\n",
      "saideva sathvik\n",
      "aharneish abburu\n",
      "anirudha padmanaban\n",
      "srihari\n",
      "hima sai swaroop\n",
      "\n",
      "Reddy's Name is not containing at least two vowels in our MSC-1st Year!\n"
     ]
    }
   ],
   "source": [
    "kaj = pd.Series(data=['aditya bharadwaj','reddy','satya sai gopinath','sai vamsee','hemanth sai pavan','lalith aditya','pavan pyla','sai mathura krishnan','varanasi sai kumar','saideva sathvik','aharneish abburu','anirudha padmanaban','srihari','hima sai swaroop'],name='MSC-1st Year')\n",
    "\n",
    "\n",
    "for i in range(0,len(kaj)):\n",
    "    count = 0\n",
    "    for j in range(0,len(kaj.iloc[i])):\n",
    "        if(kaj.iloc[i][j]=='a' or kaj.iloc[i][j]=='e' or kaj.iloc[i][j]=='i' or kaj.iloc[i][j]=='o' or kaj.iloc[i][j]=='u'):\n",
    "            count+=1\n",
    "    if(count>=2):\n",
    "        print(kaj.iloc[i])\n",
    "        \n",
    "        \n",
    "print()\n",
    "print(\"Reddy's Name is not containing at least two vowels in our MSC-1st Year!\")        "
   ]
  },
  {
   "cell_type": "markdown",
   "id": "ff184918",
   "metadata": {},
   "source": [
    "# 10"
   ]
  },
  {
   "cell_type": "code",
   "execution_count": 204,
   "id": "f51cc54a",
   "metadata": {},
   "outputs": [],
   "source": [
    "import numpy as np"
   ]
  },
  {
   "cell_type": "code",
   "execution_count": 205,
   "id": "149a4ceb",
   "metadata": {},
   "outputs": [
    {
     "name": "stdout",
     "output_type": "stream",
     "text": [
      "The Mean of the given data is : 50.96\n",
      "\n",
      "The Median of the given data is : 52.0\n",
      "\n",
      "The Standard-Deviation of the given data is : 30.830235716637564\n",
      "\n"
     ]
    }
   ],
   "source": [
    "x = []  \n",
    "\n",
    "for i in range(0,100): \n",
    "    x.append(np.random.randint(100)) # 100 random integers\n",
    "\n",
    "mean = np.mean(x) # Calculating the mean for the given data \n",
    "\n",
    "median = np.median(x) # Calculating the median for the given data \n",
    "\n",
    "sd = np.std(x,ddof=1) # Calculating the standard deviation for the given data \n",
    "\n",
    "\n",
    "print(f\"The Mean of the given data is : {mean}\")\n",
    "print()\n",
    "print(f\"The Median of the given data is : {median}\")\n",
    "print()\n",
    "print(f\"The Standard-Deviation of the given data is : {sd}\")\n",
    "print()"
   ]
  }
 ],
 "metadata": {
  "kernelspec": {
   "display_name": "Python 3 (ipykernel)",
   "language": "python",
   "name": "python3"
  },
  "language_info": {
   "codemirror_mode": {
    "name": "ipython",
    "version": 3
   },
   "file_extension": ".py",
   "mimetype": "text/x-python",
   "name": "python",
   "nbconvert_exporter": "python",
   "pygments_lexer": "ipython3",
   "version": "3.9.13"
  }
 },
 "nbformat": 4,
 "nbformat_minor": 5
}
