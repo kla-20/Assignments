{
 "cells": [
  {
   "cell_type": "markdown",
   "id": "66bfd8f6",
   "metadata": {},
   "source": [
    "(2) In each of the following cases, compute EX, V ar(X) and EXn\n",
    "(for n ≥ 0, an integer)\n",
    "whever they exists.\n",
    "\n",
    "(a) f(x) = e\n",
    "−x\n",
    ", x ≥ 0.\n",
    "\n",
    "(b) f(x) = 1/[π(1 + x\n",
    "2\n",
    ")], −∞ < x < ∞.\n",
    "\n",
    "(c) f(x) = xe−x\n",
    ", x ≥ 0.\n",
    "\n",
    "(d) f(x) = p(1 − p)\n",
    "x−1\n",
    ", x = 1, 2, ...; 0 < p < 1"
   ]
  },
  {
   "cell_type": "markdown",
   "id": "77c3169b",
   "metadata": {},
   "source": []
  },
  {
   "cell_type": "markdown",
   "id": "32632426",
   "metadata": {},
   "source": [
    "(a) f(x) = e\n",
    "−x\n",
    ", x ≥ 0.\n"
   ]
  },
  {
   "cell_type": "code",
   "execution_count": 50,
   "id": "f2608775",
   "metadata": {},
   "outputs": [
    {
     "name": "stdout",
     "output_type": "stream",
     "text": [
      "Enter value of n for nth moment:>1\n",
      "\n",
      "\n",
      "The Expectation E[X] for e^-x: 1\n",
      "\n",
      "\n",
      "The Variance Var[X] for e^-x: 1\n",
      "\n",
      "\n",
      "The 1th moment :E[X^1] for e^-x: 1\n"
     ]
    }
   ],
   "source": [
    "# 2)a\n",
    "from sympy import * #importing all from sympy\n",
    "import math #importing math\n",
    "\n",
    "x = symbols('x') # defining x as a math symbol\n",
    "gfg_exp = exp(-x) # function\n",
    "\n",
    "#taking input for nth moment\n",
    "n = int(input(\"Enter value of n for nth moment:>\"))\n",
    "\n",
    "# Use sympy.integrate() method\n",
    "\n",
    "#Expectation\n",
    "EX = integrate(x*gfg_exp, (x ,0,oo))\n",
    "# 2nd moment\n",
    "EX2 = integrate((x**2)*gfg_exp, (x ,0,oo))\n",
    "# nth moment\n",
    "EXn = integrate((x**n)*gfg_exp, (x ,0,oo))\n",
    "\n",
    "#n_moment,err = quad(f, 0, oo)\n",
    "print(\"\\n\")\n",
    "print(f\"The Expectation E[X] for e^-x: {EX}\")\n",
    "print(\"\\n\")\n",
    "print(f\"The Variance Var[X] for e^-x: {(EX2)-(EX)**2}\")\n",
    "print(\"\\n\")\n",
    "print(f\"The {n}th moment :E[X^{n}] for e^-x: {EXn}\")\n"
   ]
  },
  {
   "cell_type": "markdown",
   "id": "fa42b734",
   "metadata": {},
   "source": [
    "(b) f(x) = 1/[π(1 + x\n",
    "2\n",
    ")], −∞ < x < ∞.\n"
   ]
  },
  {
   "cell_type": "code",
   "execution_count": 51,
   "id": "f7e5691a",
   "metadata": {},
   "outputs": [
    {
     "name": "stdout",
     "output_type": "stream",
     "text": [
      "Enter value of n for nth moment:>1\n",
      "\n",
      "\n",
      "The Expectation E[X] for 1/pi(1+x^2): nan\n",
      "\n",
      "\n",
      "The Variance Var[X] for 1/pi(1+x^2): nan\n",
      "\n",
      "\n",
      "The 1th moment :E[X^1] for 1/pi(1+x^2): nan\n"
     ]
    }
   ],
   "source": [
    "# 2)b\n",
    "from sympy import * #importing all from sympy\n",
    "import math #importing math\n",
    "\n",
    "x = symbols('x') # defining x as a math symbol\n",
    "gfg_exp = 1/(math.pi)*(1+x**2) #function\n",
    "\n",
    "#taking input for nth moment\n",
    "n = int(input(\"Enter value of n for nth moment:>\"))\n",
    "\n",
    "# Use sympy.integrate() method\n",
    "#Expectation\n",
    "EX = integrate(x*gfg_exp, (x ,-oo,oo))\n",
    "# 2nd moment\n",
    "EX2 = integrate((x**2)*gfg_exp, (x ,-oo,oo))\n",
    "# nth moment\n",
    "EXn = integrate((x**n)*gfg_exp, (x ,-oo,oo))\n",
    "print(\"\\n\")\n",
    "print(f\"The Expectation E[X] for 1/pi(1+x^2): {EX}\")\n",
    "print(\"\\n\")\n",
    "print(f\"The Variance Var[X] for 1/pi(1+x^2): {(EX2)-(EX)**2}\")\n",
    "print(\"\\n\")\n",
    "print(f\"The {n}th moment :E[X^{n}] for 1/pi(1+x^2): {EXn}\")"
   ]
  },
  {
   "cell_type": "markdown",
   "id": "55d61cc9",
   "metadata": {},
   "source": [
    "(c) f(x) = xe−x\n",
    ", x ≥ 0."
   ]
  },
  {
   "cell_type": "code",
   "execution_count": 52,
   "id": "b7d22b90",
   "metadata": {},
   "outputs": [
    {
     "name": "stdout",
     "output_type": "stream",
     "text": [
      "Enter value of n for nth moment:>1\n",
      "\n",
      "\n",
      "The Expectation E[X] for x*exp(-x): 2\n",
      "\n",
      "\n",
      "The Variance Var[X] for x*exp(-x): 2\n",
      "\n",
      "\n",
      "The 1th moment :E[X^1] for x*exp(-x): 2\n"
     ]
    }
   ],
   "source": [
    "# 2)c\n",
    "from sympy import * #importing all from sympy\n",
    "import math  #importing math\n",
    "\n",
    "\n",
    "x = symbols('x') # defining x as a math symbol\n",
    "gfg_exp = x*exp(-x) #function\n",
    "\n",
    "#taking input for nth moment\n",
    "n = int(input(\"Enter value of n for nth moment:>\"))\n",
    "\n",
    "\n",
    "# Use sympy.integrate() method\n",
    "#Expectation\n",
    "EX = integrate(x*gfg_exp, (x ,0,oo))\n",
    "# 2nd moment\n",
    "EX2 = integrate((x**2)*gfg_exp, (x ,0,oo))\n",
    "# nth moment\n",
    "EXn = integrate((x**n)*gfg_exp, (x ,0,oo))\n",
    "\n",
    "print(\"\\n\")\n",
    "print(f\"The Expectation E[X] for x*exp(-x): {EX}\")\n",
    "print(\"\\n\")\n",
    "print(f\"The Variance Var[X] for x*exp(-x): {(EX2)-(EX)**2}\")\n",
    "print(\"\\n\")\n",
    "print(f\"The {n}th moment :E[X^{n}] for x*exp(-x): {EXn}\")"
   ]
  },
  {
   "cell_type": "markdown",
   "id": "1d753ea1",
   "metadata": {},
   "source": [
    "(d) f(x) = p(1 − p)\n",
    "x−1\n",
    ", x = 1, 2, ...; 0 < p < 1"
   ]
  },
  {
   "cell_type": "code",
   "execution_count": 56,
   "id": "7c75b333",
   "metadata": {},
   "outputs": [
    {
     "name": "stdout",
     "output_type": "stream",
     "text": [
      "Enter the probability of success:.32\n",
      "Enter the moment n:3\n",
      "\n",
      "\n",
      "The Expectation E[X] for p*(1-p)^(x-1): 3.125\n",
      "\n",
      "\n",
      "The Variance Var[X] for p*(1-p)^(x-1): 6.641\n",
      "\n",
      "\n",
      "The 3th moment :E[X^3] for p*(1-p)^(x-1): 127.637\n"
     ]
    }
   ],
   "source": [
    "#2)d \n",
    "from sympy import * #importing all from sympy\n",
    "from mpmath import *  #importing mpmath\n",
    "\n",
    "\n",
    "#taking input for the probabilty\n",
    "p = float(input(\"Enter the probability of success:\"))\n",
    "\n",
    "#Expectation using nsum function since function is discrete\n",
    "EX = nsum(lambda x: x*p*(1-p)**(x-1), [0, inf])\n",
    "# 2nd moment using nsum function since function is discrete\n",
    "EX2 = nsum(lambda x: x*x*p*(1-p)**(x-1), [0, inf])\n",
    "\n",
    "\n",
    "#taking input for nth moment\n",
    "n = int(input(\"Enter the moment n:\"))\n",
    "\n",
    "# nth moment using nsum function since function is discrete\n",
    "EXn = nsum(lambda x: (x**n)*p*(1-p)**(x-1), [0, inf])\n",
    "print(\"\\n\")\n",
    "print(f\"The Expectation E[X] for p*(1-p)^(x-1): {round(EX,3)}\")\n",
    "print(\"\\n\")\n",
    "print(f\"The Variance Var[X] for p*(1-p)^(x-1): {round((EX2)-(EX)**2,3)}\")\n",
    "print(\"\\n\")\n",
    "print(f\"The {n}th moment :E[X^{n}] for p*(1-p)^(x-1): {round(EXn,3)}\")"
   ]
  },
  {
   "cell_type": "markdown",
   "id": "71481b91",
   "metadata": {},
   "source": [
    "--------------------------------------------------------------"
   ]
  },
  {
   "cell_type": "markdown",
   "id": "8606e410",
   "metadata": {},
   "source": []
  },
  {
   "cell_type": "markdown",
   "id": "d8427491",
   "metadata": {},
   "source": [
    "(3) Does the following functions are pdf for θ > 0?\n",
    "\n",
    "(a) fθ(x) = (\n",
    "θ\n",
    "2xe−θx if x > 0;\n",
    "0 if x ≤ 0.\n",
    "\n",
    "(b) fθ(x) =\n",
    "\n",
    "\n",
    "\n",
    "\u0010\n",
    "(x + 1)/[θ(θ + 1)]\u0011\n",
    "e\n",
    "−x/θ if x > 0;\n",
    "0 otherwise"
   ]
  },
  {
   "cell_type": "markdown",
   "id": "27d7b47f",
   "metadata": {},
   "source": [
    "--------------------------------------------------------------------------"
   ]
  },
  {
   "cell_type": "markdown",
   "id": "be2791c8",
   "metadata": {},
   "source": [
    "a) fθ(x) = ( θ 2xe−θx if x > 0; 0 if x ≤ 0."
   ]
  },
  {
   "cell_type": "code",
   "execution_count": 61,
   "id": "84b37e28",
   "metadata": {},
   "outputs": [
    {
     "name": "stdout",
     "output_type": "stream",
     "text": [
      "Enter some positive number:1000.23\n",
      "The given function is a PDF!\n"
     ]
    }
   ],
   "source": [
    "from scipy.integrate import quad # importing quad function from scipy.integrate\n",
    "from math import *  # importing all from math\n",
    "\n",
    "\n",
    "def f1(x,theta):\n",
    "    \"\"\"\n",
    "    Summary: Returns The function which we want to check for PDF\n",
    "    Args: x - the variable in the function\n",
    "          theta - positive number given by the user\n",
    "    Author: Lalith\n",
    "    Date: 11-08-2022\n",
    "    \"\"\"\n",
    "    return (theta**2)*x*exp(-theta*x)\n",
    "\n",
    "#taking user input\n",
    "theta = float(input(\"Enter some positive number:\"))\n",
    "#Solving the integration\n",
    "I,err = quad(f1, 0, inf, args=(theta))\n",
    "#Checking if the ans is close to 1\n",
    "if(1-abs(I)<0.0001):\n",
    "    print(\"The given function is a PDF!\")\n",
    "#Checking if the ans is not close to 1\n",
    "else:\n",
    "    print(\"The given function is not a PDF!\")\n",
    "\n"
   ]
  },
  {
   "cell_type": "markdown",
   "id": "0f857e03",
   "metadata": {},
   "source": [
    "(b) fθ(x) =    \u0010 (x + 1)/[θ(θ + 1)]\u0011 e −x/θ if x > 0; 0 otherwise"
   ]
  },
  {
   "cell_type": "code",
   "execution_count": 60,
   "id": "5b669742",
   "metadata": {},
   "outputs": [
    {
     "name": "stdout",
     "output_type": "stream",
     "text": [
      "Enter some positive integer:2.325\n",
      "The given function is a PDF!\n"
     ]
    }
   ],
   "source": [
    "from scipy.integrate import quad # importing quad function from scipy.integrate\n",
    "from math import * # importing all from math\n",
    "\n",
    "\n",
    "def f2(x,theta):\n",
    "    \"\"\"\n",
    "    Summary: Returns The function which we want to check for PDF\n",
    "    Args: x - the variable in the function\n",
    "          theta - positive number given by the user\n",
    "    Author: Lalith\n",
    "    Date: 11-08-2022\n",
    "    \"\"\"\n",
    "    return exp(-x/theta)*((x+1)/(theta*(theta+1)))\n",
    "\n",
    "#taking user input\n",
    "theta = float(input(\"Enter some positive integer:\"))\n",
    "#Solving the integration\n",
    "I,err = quad(f2, 0, inf, args=(theta))\n",
    "#Checking if the ans is close to 1\n",
    "if(1-abs(I)<0.0001):\n",
    "    print(\"The given function is a PDF!\")\n",
    "#Checking if the ans is not close to 1\n",
    "else:\n",
    "    print(\"The given function is not a PDF!\")"
   ]
  }
 ],
 "metadata": {
  "kernelspec": {
   "display_name": "Python 3 (ipykernel)",
   "language": "python",
   "name": "python3"
  },
  "language_info": {
   "codemirror_mode": {
    "name": "ipython",
    "version": 3
   },
   "file_extension": ".py",
   "mimetype": "text/x-python",
   "name": "python",
   "nbconvert_exporter": "python",
   "pygments_lexer": "ipython3",
   "version": "3.9.13"
  }
 },
 "nbformat": 4,
 "nbformat_minor": 5
}
